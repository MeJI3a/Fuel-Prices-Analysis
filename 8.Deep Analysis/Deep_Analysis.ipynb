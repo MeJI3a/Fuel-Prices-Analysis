{
 "cells": [
  {
   "cell_type": "code",
   "execution_count": 1,
   "id": "228efb4e-5d7b-41de-818b-341c60175467",
   "metadata": {},
   "outputs": [
    {
     "name": "stdout",
     "output_type": "stream",
     "text": [
      "Collecting snowflake-connector-python\n",
      "  Downloading snowflake_connector_python-3.13.2-cp312-cp312-win_amd64.whl.metadata (68 kB)\n",
      "Collecting asn1crypto<2.0.0,>0.24.0 (from snowflake-connector-python)\n",
      "  Downloading asn1crypto-1.5.1-py2.py3-none-any.whl.metadata (13 kB)\n",
      "Requirement already satisfied: cffi<2.0.0,>=1.9 in c:\\users\\zana\\miniconda3\\envs\\pymc_env\\lib\\site-packages (from snowflake-connector-python) (1.16.0)\n",
      "Collecting cryptography>=3.1.0 (from snowflake-connector-python)\n",
      "  Downloading cryptography-44.0.0-cp39-abi3-win_amd64.whl.metadata (5.7 kB)\n",
      "Collecting pyOpenSSL<25.0.0,>=22.0.0 (from snowflake-connector-python)\n",
      "  Downloading pyOpenSSL-24.3.0-py3-none-any.whl.metadata (15 kB)\n",
      "Collecting pyjwt<3.0.0 (from snowflake-connector-python)\n",
      "  Downloading PyJWT-2.10.1-py3-none-any.whl.metadata (4.0 kB)\n",
      "Requirement already satisfied: pytz in c:\\users\\zana\\miniconda3\\envs\\pymc_env\\lib\\site-packages (from snowflake-connector-python) (2024.2)\n",
      "Requirement already satisfied: requests<3.0.0 in c:\\users\\zana\\miniconda3\\envs\\pymc_env\\lib\\site-packages (from snowflake-connector-python) (2.32.3)\n",
      "Requirement already satisfied: packaging in c:\\users\\zana\\miniconda3\\envs\\pymc_env\\lib\\site-packages (from snowflake-connector-python) (24.1)\n",
      "Requirement already satisfied: charset_normalizer<4,>=2 in c:\\users\\zana\\miniconda3\\envs\\pymc_env\\lib\\site-packages (from snowflake-connector-python) (3.3.2)\n",
      "Requirement already satisfied: idna<4,>=2.5 in c:\\users\\zana\\miniconda3\\envs\\pymc_env\\lib\\site-packages (from snowflake-connector-python) (3.7)\n",
      "Requirement already satisfied: certifi>=2017.4.17 in c:\\users\\zana\\miniconda3\\envs\\pymc_env\\lib\\site-packages (from snowflake-connector-python) (2024.8.30)\n",
      "Requirement already satisfied: typing_extensions<5,>=4.3 in c:\\users\\zana\\miniconda3\\envs\\pymc_env\\lib\\site-packages (from snowflake-connector-python) (4.12.2)\n",
      "Requirement already satisfied: filelock<4,>=3.5 in c:\\users\\zana\\miniconda3\\envs\\pymc_env\\lib\\site-packages (from snowflake-connector-python) (3.16.0)\n",
      "Requirement already satisfied: sortedcontainers>=2.4.0 in c:\\users\\zana\\miniconda3\\envs\\pymc_env\\lib\\site-packages (from snowflake-connector-python) (2.4.0)\n",
      "Requirement already satisfied: platformdirs<5.0.0,>=2.6.0 in c:\\users\\zana\\miniconda3\\envs\\pymc_env\\lib\\site-packages (from snowflake-connector-python) (3.10.0)\n",
      "Collecting tomlkit (from snowflake-connector-python)\n",
      "  Downloading tomlkit-0.13.2-py3-none-any.whl.metadata (2.7 kB)\n",
      "Requirement already satisfied: pycparser in c:\\users\\zana\\miniconda3\\envs\\pymc_env\\lib\\site-packages (from cffi<2.0.0,>=1.9->snowflake-connector-python) (2.21)\n",
      "Requirement already satisfied: urllib3<3,>=1.21.1 in c:\\users\\zana\\miniconda3\\envs\\pymc_env\\lib\\site-packages (from requests<3.0.0->snowflake-connector-python) (2.2.2)\n",
      "Downloading snowflake_connector_python-3.13.2-cp312-cp312-win_amd64.whl (920 kB)\n",
      "   ---------------------------------------- 0.0/920.4 kB ? eta -:--:--\n",
      "   ---------------------------------------- 920.4/920.4 kB 8.4 MB/s eta 0:00:00\n",
      "Downloading asn1crypto-1.5.1-py2.py3-none-any.whl (105 kB)\n",
      "Downloading cryptography-44.0.0-cp39-abi3-win_amd64.whl (3.2 MB)\n",
      "   ---------------------------------------- 0.0/3.2 MB ? eta -:--:--\n",
      "   ---------------------- ----------------- 1.8/3.2 MB 9.1 MB/s eta 0:00:01\n",
      "   ---------------------------------------- 3.2/3.2 MB 9.0 MB/s eta 0:00:00\n",
      "Downloading PyJWT-2.10.1-py3-none-any.whl (22 kB)\n",
      "Downloading pyOpenSSL-24.3.0-py3-none-any.whl (56 kB)\n",
      "Downloading tomlkit-0.13.2-py3-none-any.whl (37 kB)\n",
      "Installing collected packages: asn1crypto, tomlkit, pyjwt, cryptography, pyOpenSSL, snowflake-connector-python\n",
      "Successfully installed asn1crypto-1.5.1 cryptography-44.0.0 pyOpenSSL-24.3.0 pyjwt-2.10.1 snowflake-connector-python-3.13.2 tomlkit-0.13.2\n",
      "Note: you may need to restart the kernel to use updated packages.\n"
     ]
    }
   ],
   "source": [
    "pip install snowflake-connector-python"
   ]
  },
  {
   "cell_type": "code",
   "execution_count": 6,
   "id": "8757d189-7a8b-4626-994e-7e54d6d1ea70",
   "metadata": {},
   "outputs": [],
   "source": [
    "conn = snowflake.connector.connect(\n",
    "    user='ZANA86ADMIN',\n",
    "    password='Zanka1986@a',\n",
    "    account='xyyxmwn-ka20413',  # Only use the prefix, without .snowflakecomputing.com\n",
    "    warehouse='fuel_warehouse',\n",
    "    database='FUEL_ANALYSIS',\n",
    "    schema='fuel'\n",
    ")\n",
    "\n"
   ]
  },
  {
   "cell_type": "code",
   "execution_count": 7,
   "id": "34f2beb9-503c-48cc-ac5e-c3f4ccf4c005",
   "metadata": {},
   "outputs": [],
   "source": [
    "\n",
    "\n",
    "# Create cursor to execute queries\n",
    "cursor = conn.cursor()\n"
   ]
  },
  {
   "cell_type": "code",
   "execution_count": 25,
   "id": "78c09e17-0d0d-4618-ad13-77f5b73944df",
   "metadata": {},
   "outputs": [
    {
     "name": "stdout",
     "output_type": "stream",
     "text": [
      "         DATE  ULSP_PRICE  ULSD_PRICE  ULSP_DUTY  ULSD_DUTY\n",
      "0  2019-01-07      1.2027      1.3033     0.5795     0.5795\n",
      "1  2019-01-14      1.1953      1.2947     0.5795     0.5795\n",
      "2  2019-01-21      1.1912      1.2892     0.5795     0.5795\n",
      "3  2019-01-28      1.1929      1.2910     0.5795     0.5795\n",
      "4  2019-02-04      1.1913      1.2913     0.5795     0.5795\n"
     ]
    }
   ],
   "source": [
    "query = \"SELECT * FROM fuel.fuel\"\n",
    "cursor.execute(query)\n",
    "\n",
    "# Fetch results and convert to pandas DataFrame\n",
    "import pandas as pd\n",
    "df_fuel = pd.DataFrame(cursor.fetchall(), columns=[col[0] for col in cursor.description])\n",
    "\n",
    "# Display the DataFrame\n",
    "print(df_fuel.head())\n"
   ]
  },
  {
   "cell_type": "code",
   "execution_count": 26,
   "id": "aeb71c2a-603c-4441-b3fa-1c43c6202c52",
   "metadata": {},
   "outputs": [
    {
     "name": "stdout",
     "output_type": "stream",
     "text": [
      "         DATE  PRICE\n",
      "0  2019-01-01  59.41\n",
      "1  2019-02-01  63.96\n",
      "2  2019-03-01  66.14\n",
      "3  2019-04-01  71.23\n",
      "4  2019-05-01  71.32\n"
     ]
    }
   ],
   "source": [
    "query = \"SELECT * FROM oil.oil\"  # You can adjust the query as needed\n",
    "cursor.execute(query)\n",
    "\n",
    "# Fetch results and convert to pandas DataFrame\n",
    "import pandas as pd\n",
    "df_oil = pd.DataFrame(cursor.fetchall(), columns=[col[0] for col in cursor.description])\n",
    "\n",
    "# Display the DataFrame\n",
    "print(df_oil.head())"
   ]
  },
  {
   "cell_type": "code",
   "execution_count": 10,
   "id": "0934bf80-8d62-41bb-8efe-1a4860371640",
   "metadata": {},
   "outputs": [
    {
     "name": "stdout",
     "output_type": "stream",
     "text": [
      "         DATE   PRICE    OPEN    HIGH     LOW  CHANGE_PERCENTAGE\n",
      "0  2024-12-31  1.2511  1.2548  1.2571  1.2504            -0.0032\n",
      "1  2024-12-30  1.2551  1.2571  1.2608  1.2505            -0.0022\n",
      "2  2024-12-27  1.2579  1.2523  1.2594  1.2503             0.0043\n",
      "3  2024-12-26  1.2525  1.2552  1.2553  1.2500            -0.0022\n",
      "4  2024-12-25  1.2553  1.2543  1.2560  1.2526             0.0009\n",
      "5  2024-12-24  1.2542  1.2536  1.2577  1.2517             0.0007\n",
      "6  2024-12-23  1.2533  1.2568  1.2590  1.2509            -0.0029\n",
      "7  2024-12-20  1.2569  1.2502  1.2615  1.2473             0.0056\n",
      "8  2024-12-19  1.2499  1.2577  1.2668  1.2494            -0.0059\n",
      "9  2024-12-18  1.2573  1.2710  1.2724  1.2562            -0.0108\n"
     ]
    }
   ],
   "source": [
    "query = \"SELECT * FROM currency.currency\"\n",
    "cursor.execute(query)\n",
    "\n",
    "# Fetch results and convert to pandas DataFrame\n",
    "import pandas as pd\n",
    "df_currency = pd.DataFrame(cursor.fetchall(), columns=[col[0] for col in cursor.description])\n",
    "\n",
    "# Display the DataFrame\n",
    "print(df_currency.head())"
   ]
  },
  {
   "cell_type": "code",
   "execution_count": 27,
   "id": "5c1f0d57-021a-437e-b4fe-b27b5a53745f",
   "metadata": {},
   "outputs": [
    {
     "name": "stdout",
     "output_type": "stream",
     "text": [
      "         DATE  INFLATION_RATE\n",
      "0  2019-01-01             1.8\n",
      "1  2019-02-01             1.8\n",
      "2  2019-03-01             1.8\n",
      "3  2019-04-01             2.0\n",
      "4  2019-05-01             1.9\n"
     ]
    }
   ],
   "source": [
    "query = \"SELECT * FROM inflation.inflation LIMIT 10\"  # You can adjust the query as needed\n",
    "cursor.execute(query)\n",
    "\n",
    "# Fetch results and convert to pandas DataFrame\n",
    "import pandas as pd\n",
    "df_inflation = pd.DataFrame(cursor.fetchall(), columns=[col[0] for col in cursor.description])\n",
    "\n",
    "# Display the DataFrame\n",
    "print(df_inflation.head())"
   ]
  },
  {
   "cell_type": "code",
   "execution_count": null,
   "id": "3421a4e4-c229-4948-b4c5-99bca0e1ae5b",
   "metadata": {},
   "outputs": [],
   "source": []
  }
 ],
 "metadata": {
  "kernelspec": {
   "display_name": "Python 3 (ipykernel)",
   "language": "python",
   "name": "python3"
  },
  "language_info": {
   "codemirror_mode": {
    "name": "ipython",
    "version": 3
   },
   "file_extension": ".py",
   "mimetype": "text/x-python",
   "name": "python",
   "nbconvert_exporter": "python",
   "pygments_lexer": "ipython3",
   "version": "3.12.5"
  }
 },
 "nbformat": 4,
 "nbformat_minor": 5
}
