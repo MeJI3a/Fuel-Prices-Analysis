{
 "cells": [
  {
   "cell_type": "code",
   "execution_count": 44,
   "id": "6a426070-901a-4d82-adaf-e741ffe81d45",
   "metadata": {},
   "outputs": [
    {
     "name": "stdout",
     "output_type": "stream",
     "text": [
      "         Date   Price    Open    High     Low Change %\n",
      "0  31/12/2024  1.2511  1.2548  1.2571  1.2504   -0.32%\n",
      "1  30/12/2024  1.2551  1.2571  1.2608  1.2505   -0.22%\n",
      "2  27/12/2024  1.2579  1.2523  1.2594  1.2503    0.43%\n",
      "3  26/12/2024  1.2525  1.2552  1.2553  1.2500   -0.22%\n",
      "4  25/12/2024  1.2553  1.2543  1.2560  1.2526    0.09%\n",
      "Date         object\n",
      "Price       float64\n",
      "Open        float64\n",
      "High        float64\n",
      "Low         float64\n",
      "Change %     object\n",
      "dtype: object\n"
     ]
    }
   ],
   "source": [
    "import pandas as pd\n",
    "\n",
    "# Specify the path to your CSV file\n",
    "file_path = r'C:\\Users\\Zana\\Desktop\\fuel-analytics\\5.S3\\S3\\cleaned_currency.csv'\n",
    "\n",
    "# Load the CSV file\n",
    "df = pd.read_csv(file_path)\n",
    "\n",
    "# Display the first few rows of the dataframe\n",
    "print(df.head())\n",
    "\n",
    "# Check the data types of each column\n",
    "print(df.dtypes)"
   ]
  },
  {
   "cell_type": "code",
   "execution_count": 45,
   "id": "cfb7fd81-ec11-4a53-a587-c328c4ac2859",
   "metadata": {},
   "outputs": [],
   "source": [
    "# Convert the 'Date' column to datetime\n",
    "df['Date'] = pd.to_datetime(df['Date'], format='%d/%m/%Y')"
   ]
  },
  {
   "cell_type": "code",
   "execution_count": 46,
   "id": "d1da0654-8ec7-4e25-a506-cc5ad771b679",
   "metadata": {},
   "outputs": [
    {
     "data": {
      "text/plain": [
       "Date        datetime64[ns]\n",
       "Price              float64\n",
       "Open               float64\n",
       "High               float64\n",
       "Low                float64\n",
       "Change %            object\n",
       "dtype: object"
      ]
     },
     "execution_count": 46,
     "metadata": {},
     "output_type": "execute_result"
    }
   ],
   "source": [
    "df.dtypes"
   ]
  },
  {
   "cell_type": "code",
   "execution_count": 47,
   "id": "b507f6cc-6f8e-4137-845f-c2a2fa52c5b4",
   "metadata": {},
   "outputs": [],
   "source": [
    "# Remove any '%' symbol and convert 'Change %' column to float\n",
    "df['Change %'] = df['Change %'].replace('%', '', regex=True).astype(float) / 100"
   ]
  },
  {
   "cell_type": "code",
   "execution_count": 48,
   "id": "b817706f-88e5-4d36-8790-8a1efa7404aa",
   "metadata": {},
   "outputs": [],
   "source": [
    "# Remove rows with null values (if any)\n",
    "df = df.dropna()"
   ]
  },
  {
   "cell_type": "code",
   "execution_count": 49,
   "id": "4fcd9418-60f4-4292-9cd8-a9b7846d6419",
   "metadata": {},
   "outputs": [
    {
     "name": "stdout",
     "output_type": "stream",
     "text": [
      "        Date   Price    Open    High     Low  Change %\n",
      "0 2024-12-31  1.2511  1.2548  1.2571  1.2504   -0.0032\n",
      "1 2024-12-30  1.2551  1.2571  1.2608  1.2505   -0.0022\n",
      "2 2024-12-27  1.2579  1.2523  1.2594  1.2503    0.0043\n",
      "3 2024-12-26  1.2525  1.2552  1.2553  1.2500   -0.0022\n",
      "4 2024-12-25  1.2553  1.2543  1.2560  1.2526    0.0009\n",
      "Date        datetime64[ns]\n",
      "Price              float64\n",
      "Open               float64\n",
      "High               float64\n",
      "Low                float64\n",
      "Change %           float64\n",
      "dtype: object\n"
     ]
    }
   ],
   "source": [
    "# Display the cleaned dataframe and its dtypes\n",
    "print(df.head())\n",
    "print(df.dtypes)"
   ]
  },
  {
   "cell_type": "code",
   "execution_count": 50,
   "id": "1c25113e-69ab-442d-8c34-32c6be128410",
   "metadata": {},
   "outputs": [],
   "source": [
    "# Save the cleaned data to a new CSV file\n",
    "df.to_csv(r'C:\\Users\\Zana\\Desktop\\fuel-analytics\\5.S3\\S3\\cleaned_currency_cleaned.csv', index=False)"
   ]
  },
  {
   "cell_type": "markdown",
   "id": "4db5cc3b-b8d1-4e1f-815a-3d812c0bcbbc",
   "metadata": {},
   "source": [
    "---"
   ]
  },
  {
   "cell_type": "code",
   "execution_count": 26,
   "id": "5980f572-2115-4e08-bafd-249d7abd15d5",
   "metadata": {},
   "outputs": [
    {
     "name": "stdout",
     "output_type": "stream",
     "text": [
      "   Year-Month  Price\n",
      "0  2019-01-01  59.41\n",
      "1  2019-02-01  63.96\n",
      "2  2019-03-01  66.14\n",
      "3  2019-04-01  71.23\n",
      "4  2019-05-01  71.32\n",
      "Year-Month     object\n",
      "Price         float64\n",
      "dtype: object\n"
     ]
    }
   ],
   "source": [
    "# Load the second CSV file (filtered_oil_prices.csv)\n",
    "file_path_oil = r'C:\\Users\\Zana\\Desktop\\fuel-analytics\\5.S3\\S3\\filtered_oil_prices.csv'\n",
    "df_oil = pd.read_csv(file_path_oil)\n",
    "\n",
    "# Display the first few rows to verify the structure\n",
    "print(df_oil.head())\n",
    "\n",
    "# Check the data types of each column\n",
    "print(df_oil.dtypes)"
   ]
  },
  {
   "cell_type": "code",
   "execution_count": 27,
   "id": "29f26ff9-88f7-4587-a0be-ff16a3397fe7",
   "metadata": {},
   "outputs": [
    {
     "name": "stdout",
     "output_type": "stream",
     "text": [
      "        Date  Price\n",
      "0 2019-01-01  59.41\n",
      "1 2019-02-01  63.96\n",
      "2 2019-03-01  66.14\n",
      "3 2019-04-01  71.23\n",
      "4 2019-05-01  71.32\n",
      "Date     datetime64[ns]\n",
      "Price           float64\n",
      "dtype: object\n"
     ]
    }
   ],
   "source": [
    "# Rename the 'Year-Month' column to 'Date'\n",
    "df_oil.rename(columns={'Year-Month': 'Date'}, inplace=True)\n",
    "\n",
    "# Convert the 'Date' column to datetime format\n",
    "df_oil['Date'] = pd.to_datetime(df_oil['Date'], format='%Y-%m-%d')\n",
    "\n",
    "# Display the cleaned dataframe\n",
    "print(df_oil.head())\n",
    "print(df_oil.dtypes)"
   ]
  },
  {
   "cell_type": "code",
   "execution_count": 28,
   "id": "c0fc1b07-023f-4483-9486-6a946a825940",
   "metadata": {},
   "outputs": [],
   "source": [
    "# Remove rows with null values (if any)\n",
    "df_oil = df_oil.dropna()"
   ]
  },
  {
   "cell_type": "code",
   "execution_count": 29,
   "id": "7d292fd1-78ab-46b9-9b6a-26960aa6d504",
   "metadata": {},
   "outputs": [
    {
     "name": "stdout",
     "output_type": "stream",
     "text": [
      "        Date  Price\n",
      "0 2019-01-01  59.41\n",
      "1 2019-02-01  63.96\n",
      "2 2019-03-01  66.14\n",
      "3 2019-04-01  71.23\n",
      "4 2019-05-01  71.32\n",
      "Date     datetime64[ns]\n",
      "Price           float64\n",
      "dtype: object\n"
     ]
    }
   ],
   "source": [
    "# Display the cleaned dataframe and its dtypes\n",
    "print(df_oil.head())\n",
    "print(df_oil.dtypes)"
   ]
  },
  {
   "cell_type": "code",
   "execution_count": 30,
   "id": "43673b36-da3c-40dc-8265-efe865a8e3d7",
   "metadata": {},
   "outputs": [],
   "source": [
    "# Save the cleaned data to a new CSV file\n",
    "df_oil.to_csv(r'C:\\Users\\Zana\\Desktop\\fuel-analytics\\5.S3\\S3\\filtered_oil_prices_cleaned.csv', index=False)"
   ]
  },
  {
   "cell_type": "code",
   "execution_count": 31,
   "id": "a76c6cac-5237-4bb0-b9e5-2dcacc8edb35",
   "metadata": {},
   "outputs": [
    {
     "data": {
      "text/html": [
       "<div>\n",
       "<style scoped>\n",
       "    .dataframe tbody tr th:only-of-type {\n",
       "        vertical-align: middle;\n",
       "    }\n",
       "\n",
       "    .dataframe tbody tr th {\n",
       "        vertical-align: top;\n",
       "    }\n",
       "\n",
       "    .dataframe thead th {\n",
       "        text-align: right;\n",
       "    }\n",
       "</style>\n",
       "<table border=\"1\" class=\"dataframe\">\n",
       "  <thead>\n",
       "    <tr style=\"text-align: right;\">\n",
       "      <th></th>\n",
       "      <th>Date</th>\n",
       "      <th>Price</th>\n",
       "    </tr>\n",
       "  </thead>\n",
       "  <tbody>\n",
       "    <tr>\n",
       "      <th>0</th>\n",
       "      <td>2019-01-01</td>\n",
       "      <td>59.41</td>\n",
       "    </tr>\n",
       "    <tr>\n",
       "      <th>1</th>\n",
       "      <td>2019-02-01</td>\n",
       "      <td>63.96</td>\n",
       "    </tr>\n",
       "    <tr>\n",
       "      <th>2</th>\n",
       "      <td>2019-03-01</td>\n",
       "      <td>66.14</td>\n",
       "    </tr>\n",
       "    <tr>\n",
       "      <th>3</th>\n",
       "      <td>2019-04-01</td>\n",
       "      <td>71.23</td>\n",
       "    </tr>\n",
       "    <tr>\n",
       "      <th>4</th>\n",
       "      <td>2019-05-01</td>\n",
       "      <td>71.32</td>\n",
       "    </tr>\n",
       "  </tbody>\n",
       "</table>\n",
       "</div>"
      ],
      "text/plain": [
       "        Date  Price\n",
       "0 2019-01-01  59.41\n",
       "1 2019-02-01  63.96\n",
       "2 2019-03-01  66.14\n",
       "3 2019-04-01  71.23\n",
       "4 2019-05-01  71.32"
      ]
     },
     "execution_count": 31,
     "metadata": {},
     "output_type": "execute_result"
    }
   ],
   "source": [
    "df_oil.head()"
   ]
  },
  {
   "cell_type": "markdown",
   "id": "1d51220d-b085-4d35-be24-e2e61c39f7e0",
   "metadata": {},
   "source": [
    "---"
   ]
  },
  {
   "cell_type": "code",
   "execution_count": 32,
   "id": "6f599cf9-1796-4456-aaec-538acf3c45e3",
   "metadata": {},
   "outputs": [
    {
     "name": "stdout",
     "output_type": "stream",
     "text": [
      "         Date  \\\n",
      "0  2019-01-07   \n",
      "1  2019-01-14   \n",
      "2  2019-01-21   \n",
      "3  2019-01-28   \n",
      "4  2019-02-04   \n",
      "\n",
      "   ULSP (Ultra low sulphur unleaded petrol) Pump price in pence/litre  \\\n",
      "0                                             1.2027                    \n",
      "1                                             1.1953                    \n",
      "2                                             1.1912                    \n",
      "3                                             1.1929                    \n",
      "4                                             1.1913                    \n",
      "\n",
      "   ULSD (Ultra low sulphur diesel) Pump price in pence/litre  \\\n",
      "0                                             1.3033           \n",
      "1                                             1.2947           \n",
      "2                                             1.2892           \n",
      "3                                             1.2910           \n",
      "4                                             1.2913           \n",
      "\n",
      "   ULSP (Ultra low sulphur unleaded petrol) Duty rate in pence/litre  \\\n",
      "0                                             0.5795                   \n",
      "1                                             0.5795                   \n",
      "2                                             0.5795                   \n",
      "3                                             0.5795                   \n",
      "4                                             0.5795                   \n",
      "\n",
      "   ULSD (Ultra low sulphur diesel) Duty rate in pence/litre  \n",
      "0                                             0.5795         \n",
      "1                                             0.5795         \n",
      "2                                             0.5795         \n",
      "3                                             0.5795         \n",
      "4                                             0.5795         \n",
      "Date                                                                   object\n",
      "ULSP (Ultra low sulphur unleaded petrol) Pump price in pence/litre    float64\n",
      "ULSD (Ultra low sulphur diesel) Pump price in pence/litre             float64\n",
      "ULSP (Ultra low sulphur unleaded petrol) Duty rate in pence/litre     float64\n",
      "ULSD (Ultra low sulphur diesel) Duty rate in pence/litre              float64\n",
      "dtype: object\n"
     ]
    }
   ],
   "source": [
    "# Load the third CSV file (fuel_prices_cleaned.csv)\n",
    "file_path_fuel = r'C:\\Users\\Zana\\Desktop\\fuel-analytics\\5.S3\\S3\\fuel_prices_cleaned.csv'\n",
    "df_fuel = pd.read_csv(file_path_fuel)\n",
    "\n",
    "# Display the first few rows to verify the structure\n",
    "print(df_fuel.head())\n",
    "\n",
    "# Check the data types of each column\n",
    "print(df_fuel.dtypes)"
   ]
  },
  {
   "cell_type": "code",
   "execution_count": 33,
   "id": "4369f14f-01de-4314-93bf-460e4880635e",
   "metadata": {},
   "outputs": [
    {
     "name": "stdout",
     "output_type": "stream",
     "text": [
      "         Date  ULSP_Price  ULSD_Price  ULSP_Duty  ULSD_Duty\n",
      "0  2019-01-07      1.2027      1.3033     0.5795     0.5795\n",
      "1  2019-01-14      1.1953      1.2947     0.5795     0.5795\n",
      "2  2019-01-21      1.1912      1.2892     0.5795     0.5795\n",
      "3  2019-01-28      1.1929      1.2910     0.5795     0.5795\n",
      "4  2019-02-04      1.1913      1.2913     0.5795     0.5795\n"
     ]
    }
   ],
   "source": [
    "# Rename the columns to shorter names\n",
    "df_fuel.rename(columns={\n",
    "    'Date': 'Date',\n",
    "    'ULSP (Ultra low sulphur unleaded petrol) Pump price in pence/litre': 'ULSP_Price',\n",
    "    'ULSD (Ultra low sulphur diesel) Pump price in pence/litre': 'ULSD_Price',\n",
    "    'ULSP (Ultra low sulphur unleaded petrol) Duty rate in pence/litre': 'ULSP_Duty',\n",
    "    'ULSD (Ultra low sulphur diesel) Duty rate in pence/litre': 'ULSD_Duty'\n",
    "}, inplace=True)\n",
    "\n",
    "# Display the first few rows to verify\n",
    "print(df_fuel.head())"
   ]
  },
  {
   "cell_type": "code",
   "execution_count": 34,
   "id": "e281a956-7299-4101-9c6e-934ff7fc9aa9",
   "metadata": {},
   "outputs": [],
   "source": [
    "# Convert the 'Date' column to datetime format\n",
    "df_fuel['Date'] = pd.to_datetime(df_fuel['Date'], format='%Y-%m-%d')"
   ]
  },
  {
   "cell_type": "code",
   "execution_count": 35,
   "id": "a6a4a65c-c744-4778-acd8-a0fbe72ba414",
   "metadata": {},
   "outputs": [],
   "source": [
    "# Remove rows with null values (if any)\n",
    "df_fuel = df_fuel.dropna()"
   ]
  },
  {
   "cell_type": "code",
   "execution_count": 36,
   "id": "c48efed0-ad11-42a9-bd66-c24f9884ae89",
   "metadata": {},
   "outputs": [
    {
     "name": "stdout",
     "output_type": "stream",
     "text": [
      "        Date  ULSP_Price  ULSD_Price  ULSP_Duty  ULSD_Duty\n",
      "0 2019-01-07      1.2027      1.3033     0.5795     0.5795\n",
      "1 2019-01-14      1.1953      1.2947     0.5795     0.5795\n",
      "2 2019-01-21      1.1912      1.2892     0.5795     0.5795\n",
      "3 2019-01-28      1.1929      1.2910     0.5795     0.5795\n",
      "4 2019-02-04      1.1913      1.2913     0.5795     0.5795\n",
      "Date          datetime64[ns]\n",
      "ULSP_Price           float64\n",
      "ULSD_Price           float64\n",
      "ULSP_Duty            float64\n",
      "ULSD_Duty            float64\n",
      "dtype: object\n"
     ]
    }
   ],
   "source": [
    "# Display the cleaned dataframe\n",
    "print(df_fuel.head())\n",
    "print(df_fuel.dtypes)"
   ]
  },
  {
   "cell_type": "code",
   "execution_count": 37,
   "id": "57e02f7a-438e-4795-a221-61971612b304",
   "metadata": {},
   "outputs": [],
   "source": [
    "# Save the cleaned data to a new CSV file\n",
    "df_fuel.to_csv(r'C:\\Users\\Zana\\Desktop\\fuel-analytics\\5.S3\\S3\\fuel_prices_cleaned_cleaned.csv', index=False)"
   ]
  },
  {
   "cell_type": "code",
   "execution_count": 38,
   "id": "decd4840-342a-4365-84e1-a83a1a066c4d",
   "metadata": {},
   "outputs": [
    {
     "data": {
      "text/html": [
       "<div>\n",
       "<style scoped>\n",
       "    .dataframe tbody tr th:only-of-type {\n",
       "        vertical-align: middle;\n",
       "    }\n",
       "\n",
       "    .dataframe tbody tr th {\n",
       "        vertical-align: top;\n",
       "    }\n",
       "\n",
       "    .dataframe thead th {\n",
       "        text-align: right;\n",
       "    }\n",
       "</style>\n",
       "<table border=\"1\" class=\"dataframe\">\n",
       "  <thead>\n",
       "    <tr style=\"text-align: right;\">\n",
       "      <th></th>\n",
       "      <th>Date</th>\n",
       "      <th>ULSP_Price</th>\n",
       "      <th>ULSD_Price</th>\n",
       "      <th>ULSP_Duty</th>\n",
       "      <th>ULSD_Duty</th>\n",
       "    </tr>\n",
       "  </thead>\n",
       "  <tbody>\n",
       "    <tr>\n",
       "      <th>0</th>\n",
       "      <td>2019-01-07</td>\n",
       "      <td>1.2027</td>\n",
       "      <td>1.3033</td>\n",
       "      <td>0.5795</td>\n",
       "      <td>0.5795</td>\n",
       "    </tr>\n",
       "    <tr>\n",
       "      <th>1</th>\n",
       "      <td>2019-01-14</td>\n",
       "      <td>1.1953</td>\n",
       "      <td>1.2947</td>\n",
       "      <td>0.5795</td>\n",
       "      <td>0.5795</td>\n",
       "    </tr>\n",
       "    <tr>\n",
       "      <th>2</th>\n",
       "      <td>2019-01-21</td>\n",
       "      <td>1.1912</td>\n",
       "      <td>1.2892</td>\n",
       "      <td>0.5795</td>\n",
       "      <td>0.5795</td>\n",
       "    </tr>\n",
       "    <tr>\n",
       "      <th>3</th>\n",
       "      <td>2019-01-28</td>\n",
       "      <td>1.1929</td>\n",
       "      <td>1.2910</td>\n",
       "      <td>0.5795</td>\n",
       "      <td>0.5795</td>\n",
       "    </tr>\n",
       "    <tr>\n",
       "      <th>4</th>\n",
       "      <td>2019-02-04</td>\n",
       "      <td>1.1913</td>\n",
       "      <td>1.2913</td>\n",
       "      <td>0.5795</td>\n",
       "      <td>0.5795</td>\n",
       "    </tr>\n",
       "  </tbody>\n",
       "</table>\n",
       "</div>"
      ],
      "text/plain": [
       "        Date  ULSP_Price  ULSD_Price  ULSP_Duty  ULSD_Duty\n",
       "0 2019-01-07      1.2027      1.3033     0.5795     0.5795\n",
       "1 2019-01-14      1.1953      1.2947     0.5795     0.5795\n",
       "2 2019-01-21      1.1912      1.2892     0.5795     0.5795\n",
       "3 2019-01-28      1.1929      1.2910     0.5795     0.5795\n",
       "4 2019-02-04      1.1913      1.2913     0.5795     0.5795"
      ]
     },
     "execution_count": 38,
     "metadata": {},
     "output_type": "execute_result"
    }
   ],
   "source": [
    "df_fuel.head()"
   ]
  },
  {
   "cell_type": "markdown",
   "id": "28144896-3635-48e7-8a11-65e546b990f9",
   "metadata": {},
   "source": [
    "---"
   ]
  },
  {
   "cell_type": "code",
   "execution_count": 39,
   "id": "a1671b4e-9879-47b3-b3da-2d323fedc300",
   "metadata": {},
   "outputs": [
    {
     "name": "stdout",
     "output_type": "stream",
     "text": [
      "         Date  Inflation\n",
      "0  2019-01-01        1.8\n",
      "1  2019-02-01        1.8\n",
      "2  2019-03-01        1.8\n",
      "3  2019-04-01        2.0\n",
      "4  2019-05-01        1.9\n",
      "Date          object\n",
      "Inflation    float64\n",
      "dtype: object\n"
     ]
    }
   ],
   "source": [
    "# Load the last CSV file (inflation_cleaned.csv)\n",
    "file_path_inflation = r'C:\\Users\\Zana\\Desktop\\fuel-analytics\\5.S3\\S3\\inflation_cleaned.csv'\n",
    "df_inflation = pd.read_csv(file_path_inflation)\n",
    "\n",
    "# Display the first few rows to verify the structure\n",
    "print(df_inflation.head())\n",
    "\n",
    "# Check the data types of each column\n",
    "print(df_inflation.dtypes)"
   ]
  },
  {
   "cell_type": "code",
   "execution_count": 40,
   "id": "e1091570-7a49-4349-b2c1-921c690a31f8",
   "metadata": {},
   "outputs": [],
   "source": [
    "# Convert the 'Date' column to datetime format\n",
    "df_inflation['Date'] = pd.to_datetime(df_inflation['Date'], format='%Y-%m-%d')"
   ]
  },
  {
   "cell_type": "code",
   "execution_count": 41,
   "id": "6f386b15-84a1-4a19-918c-fc1c232f4bff",
   "metadata": {},
   "outputs": [],
   "source": [
    "# Remove rows with null values (if any)\n",
    "df_inflation = df_inflation.dropna()"
   ]
  },
  {
   "cell_type": "code",
   "execution_count": 42,
   "id": "14fdf47a-9ff2-4d54-a23c-8cd2d1aa55a8",
   "metadata": {},
   "outputs": [
    {
     "name": "stdout",
     "output_type": "stream",
     "text": [
      "        Date  Inflation\n",
      "0 2019-01-01        1.8\n",
      "1 2019-02-01        1.8\n",
      "2 2019-03-01        1.8\n",
      "3 2019-04-01        2.0\n",
      "4 2019-05-01        1.9\n",
      "Date         datetime64[ns]\n",
      "Inflation           float64\n",
      "dtype: object\n"
     ]
    }
   ],
   "source": [
    "print(df_inflation.head())\n",
    "print(df_inflation.dtypes)"
   ]
  },
  {
   "cell_type": "code",
   "execution_count": 43,
   "id": "f61f16dd-b4d0-4dbd-bc58-1f291c1d8f11",
   "metadata": {},
   "outputs": [],
   "source": [
    "# Save the cleaned data to a new CSV file\n",
    "df_inflation.to_csv(r'C:\\Users\\Zana\\Desktop\\fuel-analytics\\5.S3\\S3\\inflation_cleaned_cleaned.csv', index=False)"
   ]
  },
  {
   "cell_type": "code",
   "execution_count": null,
   "id": "9018de09-d3e7-445d-9110-f9101e9da766",
   "metadata": {},
   "outputs": [],
   "source": []
  }
 ],
 "metadata": {
  "kernelspec": {
   "display_name": "Python 3 (ipykernel)",
   "language": "python",
   "name": "python3"
  },
  "language_info": {
   "codemirror_mode": {
    "name": "ipython",
    "version": 3
   },
   "file_extension": ".py",
   "mimetype": "text/x-python",
   "name": "python",
   "nbconvert_exporter": "python",
   "pygments_lexer": "ipython3",
   "version": "3.12.5"
  }
 },
 "nbformat": 4,
 "nbformat_minor": 5
}
