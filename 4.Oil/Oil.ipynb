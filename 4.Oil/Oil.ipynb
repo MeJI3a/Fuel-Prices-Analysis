{
 "cells": [
  {
   "cell_type": "markdown",
   "id": "3c18fe65-0263-4a7f-8a84-31d650526689",
   "metadata": {},
   "source": [
    "# Fuel Prices Analysis (United Kingdom Data)\n",
    "\n",
    "## Research Goals\n",
    "\n",
    "- Identify how fuel prices fluctuate over time and determine key patterns.\n",
    "- Analyze the impact of external factors such as supply chain disruptions, oil prices, VAT, inflation, and geopolitical events on fuel prices.\n",
    "- Compare fuel price trends across different time periods to understand long-term changes.\n",
    "- Use machine learning models to predict future fuel price movements based on historical data.\n",
    "- Store and process data efficiently using **AWS S3** and **Snowflake**, ensuring scalability and reliability.\n",
    "- Present findings through interactive **Power BI** dashboards and **Plotly Dash** visualizations for clear and actionable insights.\n",
    "- Implement a **deployment mode** for predictive models, allowing real-time or batch forecasting of fuel prices."
   ]
  },
  {
   "cell_type": "markdown",
   "id": "941b5ed4-bd01-4c9f-a82f-67a272c477ae",
   "metadata": {},
   "source": [
    "## Step 3: Oil.ipynb Objectives\n",
    "\n",
    "### Objectives:\n",
    "- Collect real-time and historical **Brent Crude** oil price data from various sources.\n",
    "- Process and clean the collected data to ensure consistency and accuracy.\n",
    "- Compute and analyze **monthly average Brent Crude oil prices**.\n",
    "- Perform **Exploratory Data Analysis (EDA)** to identify trends, seasonality, and anomalies."
   ]
  },
  {
   "cell_type": "markdown",
   "id": "ed1d68ef-eb94-4964-a5da-a377bd11877b",
   "metadata": {},
   "source": [
    "### 3.1 Import Libraries"
   ]
  },
  {
   "cell_type": "code",
   "execution_count": 115,
   "id": "e0b00f42-ff8a-4b85-a375-a4798fb4bf18",
   "metadata": {},
   "outputs": [],
   "source": [
    "import pandas as pd\n",
    "import numpy as np\n",
    "import matplotlib.pyplot as plt\n",
    "import seaborn as sns\n",
    "from datetime import datetime\n",
    "from bs4 import BeautifulSoup\n",
    "import requests"
   ]
  },
  {
   "cell_type": "markdown",
   "id": "fca5695a-d682-43c8-9356-f9f29dd345e9",
   "metadata": {},
   "source": [
    "---"
   ]
  },
  {
   "cell_type": "markdown",
   "id": "10d852f2-891c-4769-8b19-b3c6e2455bda",
   "metadata": {},
   "source": [
    "### 3.2 Upload Data from URL\n",
    "We will retrieve historical **Brent Crude oil price data** from the **U.S. Energy Information Administration (EIA)**.  \n",
    "The dataset can be accessed at the following URL:  \n",
    "[EIA Brent Crude Oil Prices (Monthly)](https://www.eia.gov/dnav/pet/hist/LeafHandler.ashx?n=PET&s=RBRTE&f=M)\n"
   ]
  },
  {
   "cell_type": "code",
   "execution_count": 116,
   "id": "e2f5fb0f-bc13-4ac8-b0fb-a8046c4e5540",
   "metadata": {},
   "outputs": [],
   "source": [
    "# URL of the page with Brent Crude oil prices\n",
    "url = \"https://www.eia.gov/dnav/pet/hist/LeafHandler.ashx?n=PET&s=RBRTE&f=M\""
   ]
  },
  {
   "cell_type": "code",
   "execution_count": 117,
   "id": "5c9b2566-2c5e-438d-813d-64c3c6e925c3",
   "metadata": {},
   "outputs": [
    {
     "name": "stdout",
     "output_type": "stream",
     "text": [
      "  Year-Month  Price\n",
      "0    1987-05  18.58\n",
      "1    1987-06  18.86\n",
      "2    1987-07  19.86\n",
      "3    1987-08  18.98\n",
      "4    1987-09  18.31\n",
      "  Year-Month  Price\n",
      "0    1987-05  18.58\n",
      "1    1987-06  18.86\n",
      "2    1987-07  19.86\n",
      "3    1987-08  18.98\n",
      "4    1987-09  18.31\n",
      "  Year-Month  Price\n",
      "0    1987-05  18.58\n",
      "1    1987-06  18.86\n",
      "2    1987-07  19.86\n",
      "3    1987-08  18.98\n",
      "4    1987-09  18.31\n"
     ]
    }
   ],
   "source": [
    "# Send request to get the page content\n",
    "response = requests.get(url)\n",
    "if response.status_code == 200:\n",
    "    soup = BeautifulSoup(response.text, \"html.parser\")\n",
    "\n",
    "    # Find all tables on the page\n",
    "    tables = soup.find_all(\"table\")\n",
    "\n",
    "    # Find the table with oil price data\n",
    "    for table in tables:\n",
    "        rows = table.find_all(\"tr\")\n",
    "        first_row = rows[0].find_all(\"th\")\n",
    "        headers = [th.text.strip() for th in first_row]\n",
    "\n",
    "        if \"Year\" in headers:\n",
    "            # Extract data from the table\n",
    "            data = []\n",
    "            for row in rows[1:]:  # Skip header row\n",
    "                cols = row.find_all(\"td\")\n",
    "                cols = [col.text.strip() for col in cols]\n",
    "                if cols and cols[0].isdigit():  # Ensure it's a valid year row\n",
    "                    year = cols[0]\n",
    "                    for month_idx, price in enumerate(cols[1:], start=1):  # Iterate over months\n",
    "                        if price:  # Ignore empty cells\n",
    "                            year_month = f\"{year}-{month_idx:02d}\"  # Convert to YYYY-MM format\n",
    "                            data.append([year_month, float(price)])\n",
    "\n",
    "            # Convert to DataFrame\n",
    "            df = pd.DataFrame(data, columns=[\"Year-Month\", \"Price\"])\n",
    "            print(df.head())  # Display first rows\n",
    "else:\n",
    "    print(\"Failed to retrieve the webpage\")"
   ]
  },
  {
   "cell_type": "code",
   "execution_count": 118,
   "id": "858bdf68-30c1-4608-85f9-244cb3043cd3",
   "metadata": {},
   "outputs": [
    {
     "data": {
      "text/html": [
       "<div>\n",
       "<style scoped>\n",
       "    .dataframe tbody tr th:only-of-type {\n",
       "        vertical-align: middle;\n",
       "    }\n",
       "\n",
       "    .dataframe tbody tr th {\n",
       "        vertical-align: top;\n",
       "    }\n",
       "\n",
       "    .dataframe thead th {\n",
       "        text-align: right;\n",
       "    }\n",
       "</style>\n",
       "<table border=\"1\" class=\"dataframe\">\n",
       "  <thead>\n",
       "    <tr style=\"text-align: right;\">\n",
       "      <th></th>\n",
       "      <th>Year-Month</th>\n",
       "      <th>Price</th>\n",
       "    </tr>\n",
       "  </thead>\n",
       "  <tbody>\n",
       "    <tr>\n",
       "      <th>0</th>\n",
       "      <td>1987-05</td>\n",
       "      <td>18.58</td>\n",
       "    </tr>\n",
       "    <tr>\n",
       "      <th>1</th>\n",
       "      <td>1987-06</td>\n",
       "      <td>18.86</td>\n",
       "    </tr>\n",
       "    <tr>\n",
       "      <th>2</th>\n",
       "      <td>1987-07</td>\n",
       "      <td>19.86</td>\n",
       "    </tr>\n",
       "    <tr>\n",
       "      <th>3</th>\n",
       "      <td>1987-08</td>\n",
       "      <td>18.98</td>\n",
       "    </tr>\n",
       "    <tr>\n",
       "      <th>4</th>\n",
       "      <td>1987-09</td>\n",
       "      <td>18.31</td>\n",
       "    </tr>\n",
       "  </tbody>\n",
       "</table>\n",
       "</div>"
      ],
      "text/plain": [
       "  Year-Month  Price\n",
       "0    1987-05  18.58\n",
       "1    1987-06  18.86\n",
       "2    1987-07  19.86\n",
       "3    1987-08  18.98\n",
       "4    1987-09  18.31"
      ]
     },
     "execution_count": 118,
     "metadata": {},
     "output_type": "execute_result"
    }
   ],
   "source": [
    "df.head()"
   ]
  },
  {
   "cell_type": "code",
   "execution_count": 119,
   "id": "517b5557-c827-495c-ae6c-479172d78c35",
   "metadata": {},
   "outputs": [
    {
     "data": {
      "text/html": [
       "<div>\n",
       "<style scoped>\n",
       "    .dataframe tbody tr th:only-of-type {\n",
       "        vertical-align: middle;\n",
       "    }\n",
       "\n",
       "    .dataframe tbody tr th {\n",
       "        vertical-align: top;\n",
       "    }\n",
       "\n",
       "    .dataframe thead th {\n",
       "        text-align: right;\n",
       "    }\n",
       "</style>\n",
       "<table border=\"1\" class=\"dataframe\">\n",
       "  <thead>\n",
       "    <tr style=\"text-align: right;\">\n",
       "      <th></th>\n",
       "      <th>Year-Month</th>\n",
       "      <th>Price</th>\n",
       "    </tr>\n",
       "  </thead>\n",
       "  <tbody>\n",
       "    <tr>\n",
       "      <th>448</th>\n",
       "      <td>2024-09</td>\n",
       "      <td>74.02</td>\n",
       "    </tr>\n",
       "    <tr>\n",
       "      <th>449</th>\n",
       "      <td>2024-10</td>\n",
       "      <td>75.63</td>\n",
       "    </tr>\n",
       "    <tr>\n",
       "      <th>450</th>\n",
       "      <td>2024-11</td>\n",
       "      <td>74.35</td>\n",
       "    </tr>\n",
       "    <tr>\n",
       "      <th>451</th>\n",
       "      <td>2024-12</td>\n",
       "      <td>73.86</td>\n",
       "    </tr>\n",
       "    <tr>\n",
       "      <th>452</th>\n",
       "      <td>2025-01</td>\n",
       "      <td>79.27</td>\n",
       "    </tr>\n",
       "  </tbody>\n",
       "</table>\n",
       "</div>"
      ],
      "text/plain": [
       "    Year-Month  Price\n",
       "448    2024-09  74.02\n",
       "449    2024-10  75.63\n",
       "450    2024-11  74.35\n",
       "451    2024-12  73.86\n",
       "452    2025-01  79.27"
      ]
     },
     "execution_count": 119,
     "metadata": {},
     "output_type": "execute_result"
    }
   ],
   "source": [
    "df.tail()"
   ]
  },
  {
   "cell_type": "code",
   "execution_count": 120,
   "id": "451cc50e-18ec-4105-859d-eb9c7b5bd728",
   "metadata": {},
   "outputs": [],
   "source": [
    "# Save cleaned data\n",
    "df.to_csv(\"oil_prices.csv\", index=False)"
   ]
  },
  {
   "cell_type": "markdown",
   "id": "2a280039-4c7a-4f07-a987-ca93fae60995",
   "metadata": {},
   "source": [
    "---"
   ]
  },
  {
   "cell_type": "markdown",
   "id": "2d6516e0-f12c-4db1-bd8d-26bcbdd83f38",
   "metadata": {},
   "source": [
    "### 3.3 Data Preparation"
   ]
  },
  {
   "cell_type": "code",
   "execution_count": 121,
   "id": "3a0745c7-25c7-4419-928b-eb91e0e340e9",
   "metadata": {},
   "outputs": [],
   "source": [
    "# Load the dataset\n",
    "df = pd.read_csv(\"C:/Users/Zana/Desktop/fuel-analytics/14.Oil/oil_prices.csv\")"
   ]
  },
  {
   "cell_type": "code",
   "execution_count": 122,
   "id": "88be1a98-2e51-454c-b002-a0947ad34c27",
   "metadata": {},
   "outputs": [
    {
     "data": {
      "text/html": [
       "<div>\n",
       "<style scoped>\n",
       "    .dataframe tbody tr th:only-of-type {\n",
       "        vertical-align: middle;\n",
       "    }\n",
       "\n",
       "    .dataframe tbody tr th {\n",
       "        vertical-align: top;\n",
       "    }\n",
       "\n",
       "    .dataframe thead th {\n",
       "        text-align: right;\n",
       "    }\n",
       "</style>\n",
       "<table border=\"1\" class=\"dataframe\">\n",
       "  <thead>\n",
       "    <tr style=\"text-align: right;\">\n",
       "      <th></th>\n",
       "      <th>Year-Month</th>\n",
       "      <th>Price</th>\n",
       "    </tr>\n",
       "  </thead>\n",
       "  <tbody>\n",
       "    <tr>\n",
       "      <th>0</th>\n",
       "      <td>1987-05</td>\n",
       "      <td>18.58</td>\n",
       "    </tr>\n",
       "    <tr>\n",
       "      <th>1</th>\n",
       "      <td>1987-06</td>\n",
       "      <td>18.86</td>\n",
       "    </tr>\n",
       "    <tr>\n",
       "      <th>2</th>\n",
       "      <td>1987-07</td>\n",
       "      <td>19.86</td>\n",
       "    </tr>\n",
       "    <tr>\n",
       "      <th>3</th>\n",
       "      <td>1987-08</td>\n",
       "      <td>18.98</td>\n",
       "    </tr>\n",
       "    <tr>\n",
       "      <th>4</th>\n",
       "      <td>1987-09</td>\n",
       "      <td>18.31</td>\n",
       "    </tr>\n",
       "  </tbody>\n",
       "</table>\n",
       "</div>"
      ],
      "text/plain": [
       "  Year-Month  Price\n",
       "0    1987-05  18.58\n",
       "1    1987-06  18.86\n",
       "2    1987-07  19.86\n",
       "3    1987-08  18.98\n",
       "4    1987-09  18.31"
      ]
     },
     "execution_count": 122,
     "metadata": {},
     "output_type": "execute_result"
    }
   ],
   "source": [
    "df.head()"
   ]
  },
  {
   "cell_type": "code",
   "execution_count": 123,
   "id": "441435cc-54fd-4607-8a23-1e804db61a8f",
   "metadata": {},
   "outputs": [],
   "source": [
    "# Convert \"Year-Month\" to datetime format for easy filtering\n",
    "df[\"Year-Month\"] = pd.to_datetime(df[\"Year-Month\"])\n",
    "\n",
    "# Filter the DataFrame to keep only rows within the range and reset index\n",
    "df = df[(df[\"Year-Month\"] >= \"2019-01-01\") & (df[\"Year-Month\"] <= \"2024-12-01\")].reset_index(drop=True)\n",
    "\n",
    "# Save the cleaned data\n",
    "df.to_csv(\"filtered_oil_prices.csv\", index=False)"
   ]
  },
  {
   "cell_type": "code",
   "execution_count": 124,
   "id": "e237e071-4064-430b-afff-6ad6a5eb2732",
   "metadata": {},
   "outputs": [
    {
     "data": {
      "text/html": [
       "<div>\n",
       "<style scoped>\n",
       "    .dataframe tbody tr th:only-of-type {\n",
       "        vertical-align: middle;\n",
       "    }\n",
       "\n",
       "    .dataframe tbody tr th {\n",
       "        vertical-align: top;\n",
       "    }\n",
       "\n",
       "    .dataframe thead th {\n",
       "        text-align: right;\n",
       "    }\n",
       "</style>\n",
       "<table border=\"1\" class=\"dataframe\">\n",
       "  <thead>\n",
       "    <tr style=\"text-align: right;\">\n",
       "      <th></th>\n",
       "      <th>Year-Month</th>\n",
       "      <th>Price</th>\n",
       "    </tr>\n",
       "  </thead>\n",
       "  <tbody>\n",
       "    <tr>\n",
       "      <th>0</th>\n",
       "      <td>2019-01-01</td>\n",
       "      <td>59.41</td>\n",
       "    </tr>\n",
       "    <tr>\n",
       "      <th>1</th>\n",
       "      <td>2019-02-01</td>\n",
       "      <td>63.96</td>\n",
       "    </tr>\n",
       "    <tr>\n",
       "      <th>2</th>\n",
       "      <td>2019-03-01</td>\n",
       "      <td>66.14</td>\n",
       "    </tr>\n",
       "    <tr>\n",
       "      <th>3</th>\n",
       "      <td>2019-04-01</td>\n",
       "      <td>71.23</td>\n",
       "    </tr>\n",
       "    <tr>\n",
       "      <th>4</th>\n",
       "      <td>2019-05-01</td>\n",
       "      <td>71.32</td>\n",
       "    </tr>\n",
       "  </tbody>\n",
       "</table>\n",
       "</div>"
      ],
      "text/plain": [
       "  Year-Month  Price\n",
       "0 2019-01-01  59.41\n",
       "1 2019-02-01  63.96\n",
       "2 2019-03-01  66.14\n",
       "3 2019-04-01  71.23\n",
       "4 2019-05-01  71.32"
      ]
     },
     "execution_count": 124,
     "metadata": {},
     "output_type": "execute_result"
    }
   ],
   "source": [
    "df.head()"
   ]
  },
  {
   "cell_type": "markdown",
   "id": "80079c6b-ad63-4926-99bc-c86a3d18b7ec",
   "metadata": {},
   "source": [
    "Convert price per barrel to price per liter\n",
    "We need the price per liter because fuel is sold to consumers in liters, not barrels.\n",
    "This conversion allows us to analyze and predict fuel costs in a format relevant to end-users,\n",
    "Making it more applicable for real-world forecasting and economic analysis."
   ]
  },
  {
   "cell_type": "code",
   "execution_count": 125,
   "id": "b18c917d-c3ce-4126-949f-35956312f8f7",
   "metadata": {},
   "outputs": [],
   "source": [
    "# Convert price per barrel to price per liter\n",
    "df[\"Price_per_Liter\"] = df_filtered[\"Price\"] / 159"
   ]
  },
  {
   "cell_type": "code",
   "execution_count": 126,
   "id": "ffa66540-e16f-4da6-a4ed-96eac3e223fa",
   "metadata": {},
   "outputs": [
    {
     "data": {
      "text/html": [
       "<div>\n",
       "<style scoped>\n",
       "    .dataframe tbody tr th:only-of-type {\n",
       "        vertical-align: middle;\n",
       "    }\n",
       "\n",
       "    .dataframe tbody tr th {\n",
       "        vertical-align: top;\n",
       "    }\n",
       "\n",
       "    .dataframe thead th {\n",
       "        text-align: right;\n",
       "    }\n",
       "</style>\n",
       "<table border=\"1\" class=\"dataframe\">\n",
       "  <thead>\n",
       "    <tr style=\"text-align: right;\">\n",
       "      <th></th>\n",
       "      <th>Year-Month</th>\n",
       "      <th>Price</th>\n",
       "      <th>Price_per_Liter</th>\n",
       "    </tr>\n",
       "  </thead>\n",
       "  <tbody>\n",
       "    <tr>\n",
       "      <th>0</th>\n",
       "      <td>2019-01-01</td>\n",
       "      <td>59.41</td>\n",
       "      <td>0.116855</td>\n",
       "    </tr>\n",
       "    <tr>\n",
       "      <th>1</th>\n",
       "      <td>2019-02-01</td>\n",
       "      <td>63.96</td>\n",
       "      <td>0.118616</td>\n",
       "    </tr>\n",
       "    <tr>\n",
       "      <th>2</th>\n",
       "      <td>2019-03-01</td>\n",
       "      <td>66.14</td>\n",
       "      <td>0.124906</td>\n",
       "    </tr>\n",
       "    <tr>\n",
       "      <th>3</th>\n",
       "      <td>2019-04-01</td>\n",
       "      <td>71.23</td>\n",
       "      <td>0.119371</td>\n",
       "    </tr>\n",
       "    <tr>\n",
       "      <th>4</th>\n",
       "      <td>2019-05-01</td>\n",
       "      <td>71.32</td>\n",
       "      <td>0.115157</td>\n",
       "    </tr>\n",
       "  </tbody>\n",
       "</table>\n",
       "</div>"
      ],
      "text/plain": [
       "  Year-Month  Price  Price_per_Liter\n",
       "0 2019-01-01  59.41         0.116855\n",
       "1 2019-02-01  63.96         0.118616\n",
       "2 2019-03-01  66.14         0.124906\n",
       "3 2019-04-01  71.23         0.119371\n",
       "4 2019-05-01  71.32         0.115157"
      ]
     },
     "execution_count": 126,
     "metadata": {},
     "output_type": "execute_result"
    }
   ],
   "source": [
    "df.head()"
   ]
  },
  {
   "cell_type": "code",
   "execution_count": 127,
   "id": "83ce71c2-a99e-48dc-a809-ce4b981e3e92",
   "metadata": {},
   "outputs": [
    {
     "data": {
      "text/html": [
       "<div>\n",
       "<style scoped>\n",
       "    .dataframe tbody tr th:only-of-type {\n",
       "        vertical-align: middle;\n",
       "    }\n",
       "\n",
       "    .dataframe tbody tr th {\n",
       "        vertical-align: top;\n",
       "    }\n",
       "\n",
       "    .dataframe thead th {\n",
       "        text-align: right;\n",
       "    }\n",
       "</style>\n",
       "<table border=\"1\" class=\"dataframe\">\n",
       "  <thead>\n",
       "    <tr style=\"text-align: right;\">\n",
       "      <th></th>\n",
       "      <th>Year-Month</th>\n",
       "      <th>Price_per_Liter</th>\n",
       "    </tr>\n",
       "  </thead>\n",
       "  <tbody>\n",
       "    <tr>\n",
       "      <th>0</th>\n",
       "      <td>2019-01-01</td>\n",
       "      <td>0.116855</td>\n",
       "    </tr>\n",
       "    <tr>\n",
       "      <th>1</th>\n",
       "      <td>2019-02-01</td>\n",
       "      <td>0.118616</td>\n",
       "    </tr>\n",
       "    <tr>\n",
       "      <th>2</th>\n",
       "      <td>2019-03-01</td>\n",
       "      <td>0.124906</td>\n",
       "    </tr>\n",
       "    <tr>\n",
       "      <th>3</th>\n",
       "      <td>2019-04-01</td>\n",
       "      <td>0.119371</td>\n",
       "    </tr>\n",
       "    <tr>\n",
       "      <th>4</th>\n",
       "      <td>2019-05-01</td>\n",
       "      <td>0.115157</td>\n",
       "    </tr>\n",
       "    <tr>\n",
       "      <th>...</th>\n",
       "      <td>...</td>\n",
       "      <td>...</td>\n",
       "    </tr>\n",
       "    <tr>\n",
       "      <th>67</th>\n",
       "      <td>2024-08-01</td>\n",
       "      <td>0.114088</td>\n",
       "    </tr>\n",
       "    <tr>\n",
       "      <th>68</th>\n",
       "      <td>2024-09-01</td>\n",
       "      <td>0.109371</td>\n",
       "    </tr>\n",
       "    <tr>\n",
       "      <th>69</th>\n",
       "      <td>2024-10-01</td>\n",
       "      <td>0.116164</td>\n",
       "    </tr>\n",
       "    <tr>\n",
       "      <th>70</th>\n",
       "      <td>2024-11-01</td>\n",
       "      <td>0.118176</td>\n",
       "    </tr>\n",
       "    <tr>\n",
       "      <th>71</th>\n",
       "      <td>2024-12-01</td>\n",
       "      <td>0.117421</td>\n",
       "    </tr>\n",
       "  </tbody>\n",
       "</table>\n",
       "<p>72 rows × 2 columns</p>\n",
       "</div>"
      ],
      "text/plain": [
       "   Year-Month  Price_per_Liter\n",
       "0  2019-01-01         0.116855\n",
       "1  2019-02-01         0.118616\n",
       "2  2019-03-01         0.124906\n",
       "3  2019-04-01         0.119371\n",
       "4  2019-05-01         0.115157\n",
       "..        ...              ...\n",
       "67 2024-08-01         0.114088\n",
       "68 2024-09-01         0.109371\n",
       "69 2024-10-01         0.116164\n",
       "70 2024-11-01         0.118176\n",
       "71 2024-12-01         0.117421\n",
       "\n",
       "[72 rows x 2 columns]"
      ]
     },
     "execution_count": 127,
     "metadata": {},
     "output_type": "execute_result"
    }
   ],
   "source": [
    "df.drop(columns=[\"Price\"])"
   ]
  },
  {
   "cell_type": "markdown",
   "id": "38f532fe-cce5-4756-b2cd-dbc1f34df889",
   "metadata": {},
   "source": [
    "---"
   ]
  },
  {
   "cell_type": "markdown",
   "id": "6b0ce201-0102-4485-8d94-ccb0e98cc751",
   "metadata": {},
   "source": [
    "### 3.4 Data Quality Checks\n",
    "Tasks:\n",
    "\n",
    "- Check for missing values\n",
    "- Check for duplicates\n",
    "- Check for zero values (to detect potential data issues)"
   ]
  },
  {
   "cell_type": "code",
   "execution_count": 128,
   "id": "1f1443e0-0783-4ccd-90b8-6622fea66d6f",
   "metadata": {},
   "outputs": [
    {
     "name": "stdout",
     "output_type": "stream",
     "text": [
      "Missing Values:\n",
      " Year-Month         0\n",
      "Price              0\n",
      "Price_per_Liter    0\n",
      "dtype: int64\n",
      "\n",
      "Duplicate Rows: 0\n",
      "\n",
      "Zero Values:\n",
      " Year-Month         0\n",
      "Price              0\n",
      "Price_per_Liter    0\n",
      "dtype: int64\n"
     ]
    }
   ],
   "source": [
    "# Check for missing values\n",
    "missing_values = df.isnull().sum()\n",
    "\n",
    "# Check for duplicate rows\n",
    "duplicate_rows = df.duplicated().sum()\n",
    "\n",
    "# Check for zero values in price columns\n",
    "zero_values = (df == 0).sum()\n",
    "\n",
    "# Display results\n",
    "print(\"Missing Values:\\n\", missing_values)\n",
    "print(\"\\nDuplicate Rows:\", duplicate_rows)\n",
    "print(\"\\nZero Values:\\n\", zero_values)"
   ]
  },
  {
   "cell_type": "markdown",
   "id": "3070586a-44e8-4c7a-b6ef-a0eea866f003",
   "metadata": {},
   "source": [
    "---"
   ]
  },
  {
   "cell_type": "markdown",
   "id": "756bd805-69df-40a9-a4c1-162bc8d55c3f",
   "metadata": {},
   "source": [
    "### 3.5 Data Summary and Statistics"
   ]
  },
  {
   "cell_type": "code",
   "execution_count": 129,
   "id": "26b4892a-df94-4adf-adec-b1a2d744bf58",
   "metadata": {},
   "outputs": [
    {
     "data": {
      "text/plain": [
       "Year-Month         datetime64[ns]\n",
       "Price                     float64\n",
       "Price_per_Liter           float64\n",
       "dtype: object"
      ]
     },
     "execution_count": 129,
     "metadata": {},
     "output_type": "execute_result"
    }
   ],
   "source": [
    "df.dtypes"
   ]
  },
  {
   "cell_type": "code",
   "execution_count": 130,
   "id": "7453685b-004c-4a1d-91f7-d88a573ffed3",
   "metadata": {},
   "outputs": [
    {
     "data": {
      "text/html": [
       "<div>\n",
       "<style scoped>\n",
       "    .dataframe tbody tr th:only-of-type {\n",
       "        vertical-align: middle;\n",
       "    }\n",
       "\n",
       "    .dataframe tbody tr th {\n",
       "        vertical-align: top;\n",
       "    }\n",
       "\n",
       "    .dataframe thead th {\n",
       "        text-align: right;\n",
       "    }\n",
       "</style>\n",
       "<table border=\"1\" class=\"dataframe\">\n",
       "  <thead>\n",
       "    <tr style=\"text-align: right;\">\n",
       "      <th></th>\n",
       "      <th>Year-Month</th>\n",
       "      <th>Price</th>\n",
       "      <th>Price_per_Liter</th>\n",
       "    </tr>\n",
       "  </thead>\n",
       "  <tbody>\n",
       "    <tr>\n",
       "      <th>0</th>\n",
       "      <td>2019-01-01</td>\n",
       "      <td>59.41</td>\n",
       "      <td>0.116855</td>\n",
       "    </tr>\n",
       "    <tr>\n",
       "      <th>1</th>\n",
       "      <td>2019-02-01</td>\n",
       "      <td>63.96</td>\n",
       "      <td>0.118616</td>\n",
       "    </tr>\n",
       "    <tr>\n",
       "      <th>2</th>\n",
       "      <td>2019-03-01</td>\n",
       "      <td>66.14</td>\n",
       "      <td>0.124906</td>\n",
       "    </tr>\n",
       "    <tr>\n",
       "      <th>3</th>\n",
       "      <td>2019-04-01</td>\n",
       "      <td>71.23</td>\n",
       "      <td>0.119371</td>\n",
       "    </tr>\n",
       "    <tr>\n",
       "      <th>4</th>\n",
       "      <td>2019-05-01</td>\n",
       "      <td>71.32</td>\n",
       "      <td>0.115157</td>\n",
       "    </tr>\n",
       "  </tbody>\n",
       "</table>\n",
       "</div>"
      ],
      "text/plain": [
       "  Year-Month  Price  Price_per_Liter\n",
       "0 2019-01-01  59.41         0.116855\n",
       "1 2019-02-01  63.96         0.118616\n",
       "2 2019-03-01  66.14         0.124906\n",
       "3 2019-04-01  71.23         0.119371\n",
       "4 2019-05-01  71.32         0.115157"
      ]
     },
     "execution_count": 130,
     "metadata": {},
     "output_type": "execute_result"
    }
   ],
   "source": [
    "df.head()"
   ]
  },
  {
   "cell_type": "code",
   "execution_count": 131,
   "id": "ef57062a-7486-4f75-9248-f4b1c6c219bf",
   "metadata": {},
   "outputs": [],
   "source": [
    "df.drop(columns=[\"Price\"], inplace=True)"
   ]
  },
  {
   "cell_type": "code",
   "execution_count": 132,
   "id": "9b4761db-3a9c-41ec-a292-2aeeb6485931",
   "metadata": {},
   "outputs": [
    {
     "data": {
      "text/html": [
       "<div>\n",
       "<style scoped>\n",
       "    .dataframe tbody tr th:only-of-type {\n",
       "        vertical-align: middle;\n",
       "    }\n",
       "\n",
       "    .dataframe tbody tr th {\n",
       "        vertical-align: top;\n",
       "    }\n",
       "\n",
       "    .dataframe thead th {\n",
       "        text-align: right;\n",
       "    }\n",
       "</style>\n",
       "<table border=\"1\" class=\"dataframe\">\n",
       "  <thead>\n",
       "    <tr style=\"text-align: right;\">\n",
       "      <th></th>\n",
       "      <th>Year-Month</th>\n",
       "      <th>Price_per_Liter</th>\n",
       "    </tr>\n",
       "  </thead>\n",
       "  <tbody>\n",
       "    <tr>\n",
       "      <th>0</th>\n",
       "      <td>2019-01-01</td>\n",
       "      <td>0.116855</td>\n",
       "    </tr>\n",
       "    <tr>\n",
       "      <th>1</th>\n",
       "      <td>2019-02-01</td>\n",
       "      <td>0.118616</td>\n",
       "    </tr>\n",
       "    <tr>\n",
       "      <th>2</th>\n",
       "      <td>2019-03-01</td>\n",
       "      <td>0.124906</td>\n",
       "    </tr>\n",
       "    <tr>\n",
       "      <th>3</th>\n",
       "      <td>2019-04-01</td>\n",
       "      <td>0.119371</td>\n",
       "    </tr>\n",
       "    <tr>\n",
       "      <th>4</th>\n",
       "      <td>2019-05-01</td>\n",
       "      <td>0.115157</td>\n",
       "    </tr>\n",
       "  </tbody>\n",
       "</table>\n",
       "</div>"
      ],
      "text/plain": [
       "  Year-Month  Price_per_Liter\n",
       "0 2019-01-01         0.116855\n",
       "1 2019-02-01         0.118616\n",
       "2 2019-03-01         0.124906\n",
       "3 2019-04-01         0.119371\n",
       "4 2019-05-01         0.115157"
      ]
     },
     "execution_count": 132,
     "metadata": {},
     "output_type": "execute_result"
    }
   ],
   "source": [
    "df.head()"
   ]
  },
  {
   "cell_type": "code",
   "execution_count": 133,
   "id": "0d5b8e5e-65a1-4a2d-a8a3-90da5f8c4785",
   "metadata": {},
   "outputs": [],
   "source": [
    "# Save cleaned data\n",
    "df.to_csv(\"oil_prices.csv\", index=False)"
   ]
  },
  {
   "cell_type": "code",
   "execution_count": 134,
   "id": "56201997-9058-49d2-94ca-c3a6874440f6",
   "metadata": {},
   "outputs": [
    {
     "data": {
      "text/plain": [
       "Year-Month         datetime64[ns]\n",
       "Price_per_Liter           float64\n",
       "dtype: object"
      ]
     },
     "execution_count": 134,
     "metadata": {},
     "output_type": "execute_result"
    }
   ],
   "source": [
    "df.dtypes"
   ]
  },
  {
   "cell_type": "code",
   "execution_count": 135,
   "id": "75e51767-c4b3-4ee7-88d8-bc6ce18c0ec0",
   "metadata": {},
   "outputs": [
    {
     "data": {
      "text/html": [
       "<div>\n",
       "<style scoped>\n",
       "    .dataframe tbody tr th:only-of-type {\n",
       "        vertical-align: middle;\n",
       "    }\n",
       "\n",
       "    .dataframe tbody tr th {\n",
       "        vertical-align: top;\n",
       "    }\n",
       "\n",
       "    .dataframe thead th {\n",
       "        text-align: right;\n",
       "    }\n",
       "</style>\n",
       "<table border=\"1\" class=\"dataframe\">\n",
       "  <thead>\n",
       "    <tr style=\"text-align: right;\">\n",
       "      <th></th>\n",
       "      <th>Year-Month</th>\n",
       "      <th>Price_per_Liter</th>\n",
       "    </tr>\n",
       "  </thead>\n",
       "  <tbody>\n",
       "    <tr>\n",
       "      <th>count</th>\n",
       "      <td>72</td>\n",
       "      <td>72.000000</td>\n",
       "    </tr>\n",
       "    <tr>\n",
       "      <th>mean</th>\n",
       "      <td>2021-12-15 22:40:00</td>\n",
       "      <td>0.120179</td>\n",
       "    </tr>\n",
       "    <tr>\n",
       "      <th>min</th>\n",
       "      <td>2019-01-01 00:00:00</td>\n",
       "      <td>0.078050</td>\n",
       "    </tr>\n",
       "    <tr>\n",
       "      <th>25%</th>\n",
       "      <td>2020-06-23 12:00:00</td>\n",
       "      <td>0.107799</td>\n",
       "    </tr>\n",
       "    <tr>\n",
       "      <th>50%</th>\n",
       "      <td>2021-12-16 12:00:00</td>\n",
       "      <td>0.117296</td>\n",
       "    </tr>\n",
       "    <tr>\n",
       "      <th>75%</th>\n",
       "      <td>2023-06-08 12:00:00</td>\n",
       "      <td>0.124638</td>\n",
       "    </tr>\n",
       "    <tr>\n",
       "      <th>max</th>\n",
       "      <td>2024-12-01 00:00:00</td>\n",
       "      <td>0.226541</td>\n",
       "    </tr>\n",
       "    <tr>\n",
       "      <th>std</th>\n",
       "      <td>NaN</td>\n",
       "      <td>0.026225</td>\n",
       "    </tr>\n",
       "  </tbody>\n",
       "</table>\n",
       "</div>"
      ],
      "text/plain": [
       "                Year-Month  Price_per_Liter\n",
       "count                   72        72.000000\n",
       "mean   2021-12-15 22:40:00         0.120179\n",
       "min    2019-01-01 00:00:00         0.078050\n",
       "25%    2020-06-23 12:00:00         0.107799\n",
       "50%    2021-12-16 12:00:00         0.117296\n",
       "75%    2023-06-08 12:00:00         0.124638\n",
       "max    2024-12-01 00:00:00         0.226541\n",
       "std                    NaN         0.026225"
      ]
     },
     "execution_count": 135,
     "metadata": {},
     "output_type": "execute_result"
    }
   ],
   "source": [
    "df.describe()"
   ]
  },
  {
   "cell_type": "code",
   "execution_count": 136,
   "id": "3f69beff-10d0-4f46-9cb2-e0d5acd6784a",
   "metadata": {},
   "outputs": [
    {
     "name": "stdout",
     "output_type": "stream",
     "text": [
      "<class 'pandas.core.frame.DataFrame'>\n",
      "RangeIndex: 72 entries, 0 to 71\n",
      "Data columns (total 2 columns):\n",
      " #   Column           Non-Null Count  Dtype         \n",
      "---  ------           --------------  -----         \n",
      " 0   Year-Month       72 non-null     datetime64[ns]\n",
      " 1   Price_per_Liter  72 non-null     float64       \n",
      "dtypes: datetime64[ns](1), float64(1)\n",
      "memory usage: 1.3 KB\n"
     ]
    }
   ],
   "source": [
    "df.info()"
   ]
  },
  {
   "cell_type": "markdown",
   "id": "82396790-806b-4307-997a-4864fc20dd7f",
   "metadata": {},
   "source": [
    "---"
   ]
  },
  {
   "cell_type": "markdown",
   "id": "f421b5ec-cea4-40fa-b571-1604068bc43c",
   "metadata": {},
   "source": [
    "### 3.6 Brent Crud Price Trends Over Time\n",
    "Task: Plot a line chart to visualize how petrol and diesel prices changed over time."
   ]
  },
  {
   "cell_type": "code",
   "execution_count": 137,
   "id": "08fa8ac6-2ec6-4aa1-b62f-bf42d0d5c3a7",
   "metadata": {},
   "outputs": [
    {
     "data": {
      "image/png": "[encoded data removed]",
      "text/plain": [
       "<Figure size 1200x600 with 1 Axes>"
      ]
     },
     "metadata": {},
     "output_type": "display_data"
    }
   ],
   "source": [
    "import matplotlib.pyplot as plt\n",
    "import seaborn as sns\n",
    "\n",
    "# Set figure size\n",
    "plt.figure(figsize=(12, 6))\n",
    "\n",
    "# Line plot of Oil Price per Liter over time with Viridis colormap\n",
    "sns.lineplot(x=df[\"Year-Month\"].dt.strftime(\"%Y-%m\"), y=df[\"Price_per_Liter\"], data=df, color=sns.color_palette(\"viridis\")[3], label=\"Brent Crude Price\")\n",
    "\n",
    "# Formatting\n",
    "plt.xticks(rotation=90, fontsize=8)  # Rotate x-axis labels for readability\n",
    "plt.yticks(fontsize=10)\n",
    "plt.xlabel(\"Year-Month\", fontsize=12)\n",
    "plt.ylabel(\"Brent Crude Price per Liter (£/L)\", fontsize=12)\n",
    "plt.title(\"Brent Crude Price Trends Over Time\", fontsize=14)\n",
    "plt.legend(fontsize=10)\n",
    "plt.grid(True)\n",
    "\n",
    "# Show the plot\n",
    "plt.show()"
   ]
  },
  {
   "cell_type": "markdown",
   "id": "d2088151-520d-4bd9-a659-5a23cce2122c",
   "metadata": {},
   "source": [
    "## Findings from the Brent Crude Price Trend Analysis\n",
    "\n",
    "## General Trend:\n",
    "- The price of Brent Crude per liter fluctuates over time, with noticeable peaks and troughs.\n",
    "- There was a significant price spike around 2022, likely due to geopolitical events or supply chain disruptions.\n",
    "- Prices dropped sharply in 2020, potentially due to the COVID-19 pandemic reducing global oil demand.\n",
    "\n",
    "## Volatility:\n",
    "- The data shows high volatility, indicating external market forces significantly impact crude oil prices.\n",
    "- There are multiple mini-peaks and drops, showing frequent market adjustments.\n",
    "\n",
    "## Seasonality:\n",
    "- A pattern of repeating price movements suggests possible seasonal effects, which we will confirm using Seasonality & Trend Decomposition.\n",
    "\n",
    "## Next Steps:\n",
    "- **Boxplot Analysis** – Identify outliers, median, and price distribution."
   ]
  },
  {
   "cell_type": "markdown",
   "id": "464a67c2-e507-4b9a-b7c9-8c1653ba7ef9",
   "metadata": {},
   "source": [
    "---"
   ]
  },
  {
   "cell_type": "markdown",
   "id": "fbb1acc9-802f-4dfc-8176-adf4598f497a",
   "metadata": {},
   "source": [
    "### 3.7 Boxplot for Brent Crude Price Distribution"
   ]
  },
  {
   "cell_type": "code",
   "execution_count": 140,
   "id": "13b5bcae-aee1-49b9-a7e1-6f0b12193574",
   "metadata": {},
   "outputs": [
    {
     "data": {
      "text/html": [
       "<div>\n",
       "<style scoped>\n",
       "    .dataframe tbody tr th:only-of-type {\n",
       "        vertical-align: middle;\n",
       "    }\n",
       "\n",
       "    .dataframe tbody tr th {\n",
       "        vertical-align: top;\n",
       "    }\n",
       "\n",
       "    .dataframe thead th {\n",
       "        text-align: right;\n",
       "    }\n",
       "</style>\n",
       "<table border=\"1\" class=\"dataframe\">\n",
       "  <thead>\n",
       "    <tr style=\"text-align: right;\">\n",
       "      <th></th>\n",
       "      <th>Year-Month</th>\n",
       "      <th>Price_per_Liter</th>\n",
       "    </tr>\n",
       "  </thead>\n",
       "  <tbody>\n",
       "    <tr>\n",
       "      <th>0</th>\n",
       "      <td>2019-01-01</td>\n",
       "      <td>0.116855</td>\n",
       "    </tr>\n",
       "    <tr>\n",
       "      <th>1</th>\n",
       "      <td>2019-02-01</td>\n",
       "      <td>0.118616</td>\n",
       "    </tr>\n",
       "    <tr>\n",
       "      <th>2</th>\n",
       "      <td>2019-03-01</td>\n",
       "      <td>0.124906</td>\n",
       "    </tr>\n",
       "    <tr>\n",
       "      <th>3</th>\n",
       "      <td>2019-04-01</td>\n",
       "      <td>0.119371</td>\n",
       "    </tr>\n",
       "    <tr>\n",
       "      <th>4</th>\n",
       "      <td>2019-05-01</td>\n",
       "      <td>0.115157</td>\n",
       "    </tr>\n",
       "  </tbody>\n",
       "</table>\n",
       "</div>"
      ],
      "text/plain": [
       "  Year-Month  Price_per_Liter\n",
       "0 2019-01-01         0.116855\n",
       "1 2019-02-01         0.118616\n",
       "2 2019-03-01         0.124906\n",
       "3 2019-04-01         0.119371\n",
       "4 2019-05-01         0.115157"
      ]
     },
     "execution_count": 140,
     "metadata": {},
     "output_type": "execute_result"
    }
   ],
   "source": [
    "df.head()"
   ]
  },
  {
   "cell_type": "code",
   "execution_count": 145,
   "id": "aca3afa7-9720-45a2-967b-5bb238a18ff4",
   "metadata": {},
   "outputs": [
    {
     "data": {
      "text/plain": [
       "<module 'matplotlib.pyplot' from 'C:\\\\Users\\\\Zana\\\\miniconda3\\\\envs\\\\pymc_env\\\\Lib\\\\site-packages\\\\matplotlib\\\\pyplot.py'>"
      ]
     },
     "execution_count": 145,
     "metadata": {},
     "output_type": "execute_result"
    },
    {
     "data": {
      "image/png": "[encoded data removed]",
      "text/plain": [
       "<Figure size 800x600 with 1 Axes>"
      ]
     },
     "metadata": {},
     "output_type": "display_data"
    }
   ],
   "source": [
    "import matplotlib.pyplot as plt\n",
    "import seaborn as sns\n",
    "\n",
    "# Set seaborn style\n",
    "sns.set_style(\"whitegrid\")\n",
    "\n",
    "# Create a dummy categorical column for hue\n",
    "df[\"Category\"] = \"Brent Crude\"\n",
    "\n",
    "# Create boxplot with correct hue assignment (Seaborn v0.14+ fix)\n",
    "plt.figure(figsize=(8, 6))\n",
    "sns.boxplot(x=df[\"Category\"], y=df[\"Price_per_Liter\"], hue=df[\"Category\"], palette=\"viridis\", legend=False)\n",
    "\n",
    "# Formatting\n",
    "plt.xlabel(\"\")\n",
    "plt.ylabel(\"Price per Liter (£/L)\", fontsize=12)\n",
    "plt.title(\"Brent Crude Price Distribution\", fontsize=14)\n",
    "plt\n"
   ]
  },
  {
   "cell_type": "markdown",
   "id": "43f86f11-3aeb-4d49-8f94-ab7fa71e503b",
   "metadata": {},
   "source": [
    "---"
   ]
  },
  {
   "cell_type": "markdown",
   "id": "1ddaa2d9-fc74-4bbe-b8dd-44cec6a655c5",
   "metadata": {},
   "source": [
    "## Findings from the Boxplot Analysis\n",
    "\n",
    "## Price Distribution\n",
    "- The median Brent Crude price per liter is around £0.12.  \n",
    "- Most prices fall within the interquartile range (IQR) between £0.11 and £0.13.  \n",
    "\n",
    "## Outliers\n",
    "- Several high outliers are observed above £0.16, with a few extreme values exceeding £0.22.  \n",
    "- A few low outliers below £0.09 suggest occasional price drops.  \n",
    "\n",
    "## Volatility & Stability\n",
    "- The whiskers show moderate variation, indicating some fluctuations in price.  \n",
    "- The spread suggests occasional price instability, possibly due to external market factors."
   ]
  },
  {
   "cell_type": "markdown",
   "id": "df5d2d19-b07d-45c4-a427-aee860f6884d",
   "metadata": {},
   "source": [
    "---"
   ]
  },
  {
   "cell_type": "markdown",
   "id": "49885935-ae48-433e-a53c-6269097ab7d7",
   "metadata": {},
   "source": [
    "# **Completed Work: Fuel Prices Analysis (United Kingdom Data)**\n",
    "\n",
    "## **1. Data Collection & Processing**\n",
    "- Retrieved historical Brent Crude oil price data from the U.S. Energy Information Administration (EIA).\n",
    "- Used web scraping (BeautifulSoup) to extract monthly Brent Crude prices from 1987 to 2025.\n",
    "- Converted price per barrel to price per liter for relevance to consumer fuel costs.\n",
    "- Filtered dataset to focus on the period from **2019 to 2024**.\n",
    "- Cleaned data by handling missing values, duplicates, and ensuring consistency.\n",
    "\n",
    "## **2. Data Storage & Transformation**\n",
    "- Saved processed data in CSV format.\n",
    "- Formatted \"Year-Month\" column to **datetime** for better filtering and trend analysis.\n",
    "- Conducted data quality checks:\n",
    "  - **No missing values**\n",
    "  - **No duplicate entries**\n",
    "  - **No zero values detected**\n",
    "\n",
    "## **3. Exploratory Data Analysis (EDA)**\n",
    "- **Trend Analysis:** \n",
    "  - Created a line chart to visualize Brent Crude price changes over time.\n",
    "  - Identified major fluctuations, including **2022 price spikes** and **2020 drops**.\n",
    "  - Observed seasonal price patterns.\n",
    "\n",
    "- **Boxplot Analysis:**\n",
    "  - **Price Distribution:** Median Brent Crude price per liter is **£0.12**.\n",
    "  - **Interquartile Range (IQR):** Prices mostly fall between **£0.11 and £0.13**.\n",
    "  - **Outliers:** \n",
    "    - High outliers above **£0.16**, with extreme values exceeding **£0.22**.\n",
    "    - Low outliers below **£0.09**, indicating occasional price drops.\n",
    "  - **Volatility:** Moderate variation suggests external factors influence prices.\n",
    "\n",
    "## **4. Data Visualization**\n",
    "- Created **time-series line plot** for Brent Crude price trends.\n",
    "- Generated **boxplot** to highlight price distribution and outliers.\n",
    "- Applied formatting for readability, including **rotated x-axis labels**, **grid lines**, and **legend styling**.\n"
   ]
  },
  {
   "cell_type": "code",
   "execution_count": null,
   "id": "d5a96176-d1e0-4e76-9d87-a805b512b501",
   "metadata": {},
   "outputs": [],
   "source": []
  }
 ],
 "metadata": {
  "kernelspec": {
   "display_name": "Python 3 (ipykernel)",
   "language": "python",
   "name": "python3"
  },
  "language_info": {
   "codemirror_mode": {
    "name": "ipython",
    "version": 3
   },
   "file_extension": ".py",
   "mimetype": "text/x-python",
   "name": "python",
   "nbconvert_exporter": "python",
   "pygments_lexer": "ipython3",
   "version": "3.12.5"
  }
 },
 "nbformat": 4,
 "nbformat_minor": 5
}
